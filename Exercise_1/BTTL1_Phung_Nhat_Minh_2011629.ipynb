{
  "cells": [
    {
      "cell_type": "markdown",
      "metadata": {
        "id": "ADexcgXsKdkG"
      },
      "source": [
        "# 1. Khởi tạo"
      ]
    },
    {
      "cell_type": "markdown",
      "metadata": {
        "id": "up0T_WkE31S1"
      },
      "source": [
        "Khai báo thư viện và nhập số liệu"
      ]
    },
    {
      "cell_type": "code",
      "execution_count": 23,
      "metadata": {
        "id": "VFLpp_SQKLxS"
      },
      "outputs": [],
      "source": [
        "import numpy as np\n",
        "import matplotlib.pyplot as plt\n",
        "\n",
        "x_origin = np.array([[1400, 1600, 1700, 1875, 1100, 1550, 2350, 2450, 1425, 1700]], dtype='float64').T\n",
        "\n",
        "y_origin = np.array([[245, 312, 279, 308, 199, 219, 405, 324, 319, 255]] ,dtype='float64').T"
      ]
    },
    {
      "cell_type": "markdown",
      "metadata": {
        "id": "qHpLxIX7O3fD"
      },
      "source": [
        "# **2. Dùng gradient desent**"
      ]
    },
    {
      "cell_type": "markdown",
      "metadata": {
        "id": "i3uKdB-MSk9I"
      },
      "source": [
        "Vì giá trị số liệu lớn, nên nếu chọn learning rate lớn sẽ gây ra tình trạng không đủ bộ nhớ trong quá trình tính toán, nếu chọn learning rate nhỏ thì tính toán rất lâu. Để khắc phục tình trạng đó, ta sẽ  chuẩn hóa dữ liệu về giá trị trong khoảng từ 0 đến 1 trước khi bắt đầu tính toán bằng cách chia mỗi ma trận x và y cho giá trị lớn nhất trong ma trận."
      ]
    },
    {
      "cell_type": "code",
      "execution_count": 14,
      "metadata": {
        "id": "-RtVkfouSsg0"
      },
      "outputs": [],
      "source": [
        "x = x_origin / np.max(x_origin)\n",
        "y = y_origin / np.max(y_origin)"
      ]
    },
    {
      "cell_type": "markdown",
      "metadata": {
        "id": "oAzntmnNzwEE"
      },
      "source": [
        "Tạo ma trận w gồm 2 hàng và 1 cột, phần tử w[0][0] là w_0 và phần tử w[1][0] là là w_1 trong biểu thức sau:\n",
        "\n",
        "y = w_1 * x + w_0\n",
        "\n",
        "Tạo biến learning_rate để lưu learning rate.\n",
        "\n",
        "Tạo biến epochs để lưu số lần lặp của vòng lặp tính giá trị w_0 và w_1.\n",
        "\n",
        "Tạo biến N lưu số lượng các phần tử của ma trận x.\n"
      ]
    },
    {
      "cell_type": "code",
      "execution_count": 35,
      "metadata": {
        "id": "4hIXBlYjzw6B"
      },
      "outputs": [],
      "source": [
        "w = np.zeros((2,1), dtype='float64')\n",
        "learning_rate = 1\n",
        "epochs = 10000\n",
        "N = len(x)"
      ]
    },
    {
      "cell_type": "markdown",
      "metadata": {
        "id": "1L1feePN1Pyg"
      },
      "source": [
        "Tạo mảng x_bar gồm 2 cột, cột 0 chứa các phần tử có giá trị 1, cột 1 là mảng x, để phục vụ cho quá trình tính toán w_0 và w_1 theo công thức gradient desent."
      ]
    },
    {
      "cell_type": "code",
      "execution_count": 36,
      "metadata": {
        "id": "OcNMB4ZT1TTx"
      },
      "outputs": [],
      "source": [
        "x_bar = np.concatenate((np.ones((len(x), 1)), x), axis = 1)\n"
      ]
    },
    {
      "cell_type": "markdown",
      "metadata": {
        "id": "CVj9Dp8x2YJd"
      },
      "source": [
        "Thực hiện lặp lại việc tính toán giá trị w_0 và w_1 theo số lần lặp được lưu trong biến epochs, thay đổi giá trị biến learning_rate và epochs để giá trị w_0 và w_1 hội tụ."
      ]
    },
    {
      "cell_type": "code",
      "execution_count": 37,
      "metadata": {
        "id": "aAChw4xZ2fpV"
      },
      "outputs": [],
      "source": [
        "for i in range(epochs):\n",
        "  w = w - learning_rate * x_bar.T @ (x_bar @ w - y) / N\n"
      ]
    },
    {
      "cell_type": "markdown",
      "metadata": {
        "id": "lPaayMpi3CyM"
      },
      "source": [
        "Vì giá trị ma trận w được tính bằng giá trị ma trận x và y sau khi chuẩn hóa, nên ta cần thực hiện chuẩn hóa lại giá trị của w sau khi tính toán."
      ]
    },
    {
      "cell_type": "code",
      "execution_count": 38,
      "metadata": {
        "colab": {
          "base_uri": "https://localhost:8080/"
        },
        "id": "_xF9s3w83SZR",
        "outputId": "34cf006a-c0c2-4662-e9fb-0b8fe90f3948"
      },
      "outputs": [
        {
          "name": "stdout",
          "output_type": "stream",
          "text": [
            "98.24832962138137\n",
            "0.10976773783009834\n"
          ]
        }
      ],
      "source": [
        "w_0 = w[0][0] * np.max(y_origin)\n",
        "w_1 = w[1][0] * np.max(y_origin) / np.max(x_origin)\n",
        "print(w_0)\n",
        "print(w_1)"
      ]
    },
    {
      "cell_type": "markdown",
      "metadata": {
        "id": "jBNttcuT6ZK9"
      },
      "source": [
        "Tạo ma trận x_temp chứa 2 giá trị 0 và 3000 để vẽ đồ thị"
      ]
    },
    {
      "cell_type": "code",
      "execution_count": null,
      "metadata": {
        "id": "6DQ7hCwR6fC9"
      },
      "outputs": [],
      "source": [
        "x_temp = np.linspace(0, 3000, 2)"
      ]
    },
    {
      "cell_type": "markdown",
      "metadata": {
        "id": "3kXXP2kN3t15"
      },
      "source": [
        "Vẽ đồ thị."
      ]
    },
    {
      "cell_type": "code",
      "execution_count": 46,
      "metadata": {
        "colab": {
          "base_uri": "https://localhost:8080/",
          "height": 295
        },
        "id": "bfF3BtUj3wOz",
        "outputId": "3d97a011-dc65-4b5e-e158-f67b5e41631e"
      },
      "outputs": [
        {
          "data": {
            "image/png": "[encoded data removed]",
            "text/plain": [
              "<Figure size 432x288 with 1 Axes>"
            ]
          },
          "metadata": {
            "needs_background": "light"
          },
          "output_type": "display_data"
        }
      ],
      "source": [
        "plt.plot(x_origin, y_origin, 'ro')\n",
        "plt.plot(x_temp, w_0 + w_1 * x_temp)\n",
        "plt.xlabel('Square Feet')\n",
        "plt.ylabel('House Price in 1000$')\n",
        "plt.title('Linear Regression')\n",
        "plt.show()"
      ]
    },
    {
      "cell_type": "markdown",
      "metadata": {
        "id": "_TLce_6V5F1l"
      },
      "source": [
        "# **3. Dùng thư viện scikit-learn**"
      ]
    },
    {
      "cell_type": "markdown",
      "metadata": {
        "id": "cg_k8UWf6G3_"
      },
      "source": [
        "Khai báo thư viện scikit-learn"
      ]
    },
    {
      "cell_type": "code",
      "execution_count": 40,
      "metadata": {
        "id": "mT8klbII5eJ0"
      },
      "outputs": [],
      "source": [
        "from sklearn.linear_model import LinearRegression"
      ]
    },
    {
      "cell_type": "markdown",
      "metadata": {
        "id": "mt18uhhk6DHU"
      },
      "source": [
        "Gọi hàm tính toán."
      ]
    },
    {
      "cell_type": "code",
      "execution_count": 43,
      "metadata": {
        "id": "NqTG124b6CED"
      },
      "outputs": [],
      "source": [
        "reg = LinearRegression().fit(x_origin, y_origin)"
      ]
    },
    {
      "cell_type": "markdown",
      "metadata": {
        "id": "IFZXF31I6KUZ"
      },
      "source": [
        "Hiển thị giá trị w_0 và w_1"
      ]
    },
    {
      "cell_type": "code",
      "execution_count": 41,
      "metadata": {
        "colab": {
          "base_uri": "https://localhost:8080/"
        },
        "id": "_rzhWNtA50cn",
        "outputId": "c9ff7d20-7a96-4be5-a2ec-f53abdf2967f"
      },
      "outputs": [
        {
          "data": {
            "text/plain": [
              "array([[0.10976774]])"
            ]
          },
          "execution_count": 41,
          "metadata": {},
          "output_type": "execute_result"
        }
      ],
      "source": [
        "reg.coef_"
      ]
    },
    {
      "cell_type": "code",
      "execution_count": 42,
      "metadata": {
        "colab": {
          "base_uri": "https://localhost:8080/"
        },
        "id": "MWX3zG0X56yP",
        "outputId": "e316761b-1f60-4c17-9d40-0121cc0b146f"
      },
      "outputs": [
        {
          "data": {
            "text/plain": [
              "array([98.24832962])"
            ]
          },
          "execution_count": 42,
          "metadata": {},
          "output_type": "execute_result"
        }
      ],
      "source": [
        "reg.intercept_"
      ]
    },
    {
      "cell_type": "markdown",
      "metadata": {
        "id": "OxkN43n26PzH"
      },
      "source": [
        "Vẽ đồ thị."
      ]
    },
    {
      "cell_type": "code",
      "execution_count": 49,
      "metadata": {
        "colab": {
          "base_uri": "https://localhost:8080/",
          "height": 295
        },
        "id": "N4wZ58kj6S0P",
        "outputId": "6d758b60-d881-4afe-abbc-fcd71788d33a"
      },
      "outputs": [
        {
          "data": {
            "image/png": "[encoded data removed]",
            "text/plain": [
              "<Figure size 432x288 with 1 Axes>"
            ]
          },
          "metadata": {
            "needs_background": "light"
          },
          "output_type": "display_data"
        }
      ],
      "source": [
        "plt.plot(x_origin, y_origin, 'ro')\n",
        "plt.plot(x_temp, reg.intercept_[0] + reg.coef_[0][0] * x_temp)\n",
        "plt.xlabel('Square Feet')\n",
        "plt.ylabel('House Price in 1000$')\n",
        "plt.title('Linear Regression')\n",
        "plt.show()"
      ]
    },
    {
      "cell_type": "markdown",
      "metadata": {
        "id": "kqOdAb3S61q0"
      },
      "source": [
        "# **4. Dùng ma trận giả đảo (pseudo inverse)**"
      ]
    },
    {
      "cell_type": "markdown",
      "metadata": {
        "id": "yEjO2W3Z7Fox"
      },
      "source": [
        "Tạo ma trận x mở rộng"
      ]
    },
    {
      "cell_type": "code",
      "execution_count": 53,
      "metadata": {
        "colab": {
          "base_uri": "https://localhost:8080/"
        },
        "id": "mmd5QHLj7FCZ",
        "outputId": "fa115fd7-cef2-4186-fd0c-6304cb5b4d8d"
      },
      "outputs": [
        {
          "data": {
            "text/plain": [
              "array([[1.000e+00, 1.400e+03],\n",
              "       [1.000e+00, 1.600e+03],\n",
              "       [1.000e+00, 1.700e+03],\n",
              "       [1.000e+00, 1.875e+03],\n",
              "       [1.000e+00, 1.100e+03],\n",
              "       [1.000e+00, 1.550e+03],\n",
              "       [1.000e+00, 2.350e+03],\n",
              "       [1.000e+00, 2.450e+03],\n",
              "       [1.000e+00, 1.425e+03],\n",
              "       [1.000e+00, 1.700e+03]])"
            ]
          },
          "execution_count": 53,
          "metadata": {},
          "output_type": "execute_result"
        }
      ],
      "source": [
        "x_bar = np.concatenate((np.ones((len(x_origin), 1)), x_origin), axis = 1)\n",
        "x_bar"
      ]
    },
    {
      "cell_type": "markdown",
      "metadata": {
        "id": "zt5fKEgM-r6_"
      },
      "source": [
        "Tính toán giá trị w_0 và w_1 theo công thức:\n",
        "\n",
        "w = $(\\overline{X}^T \\overline{X})^\\dagger \\overline{X}^T$y"
      ]
    },
    {
      "cell_type": "code",
      "execution_count": 58,
      "metadata": {
        "id": "qzFXjSY8-rmX"
      },
      "outputs": [],
      "source": [
        "w = np.linalg.pinv(x_bar.T @ x_bar) @ x_bar.T @ y_origin\n",
        "w_0 = w[0][0]\n",
        "W_1 = w[1][0]"
      ]
    },
    {
      "cell_type": "code",
      "execution_count": 61,
      "metadata": {
        "colab": {
          "base_uri": "https://localhost:8080/"
        },
        "id": "lxsDHx8IBwC0",
        "outputId": "853a14f6-c1a6-4e87-c2ac-4936a16e636f"
      },
      "outputs": [
        {
          "data": {
            "text/plain": [
              "98.24832962262175"
            ]
          },
          "execution_count": 61,
          "metadata": {},
          "output_type": "execute_result"
        }
      ],
      "source": [
        "w_0"
      ]
    },
    {
      "cell_type": "code",
      "execution_count": 62,
      "metadata": {
        "colab": {
          "base_uri": "https://localhost:8080/"
        },
        "id": "CA0LsDSVB2gn",
        "outputId": "6978fc89-5ce6-4516-e2f6-297fc56da10e"
      },
      "outputs": [
        {
          "data": {
            "text/plain": [
              "0.10976773783009834"
            ]
          },
          "execution_count": 62,
          "metadata": {},
          "output_type": "execute_result"
        }
      ],
      "source": [
        "w_1"
      ]
    },
    {
      "cell_type": "markdown",
      "metadata": {
        "id": "9AvX6VFfBjuw"
      },
      "source": [
        "Vẽ đồ thị."
      ]
    },
    {
      "cell_type": "code",
      "execution_count": 56,
      "metadata": {
        "colab": {
          "base_uri": "https://localhost:8080/",
          "height": 295
        },
        "id": "qE5ZwnKDBoyO",
        "outputId": "aa2ef787-c975-4515-8d72-50a73ebdf856"
      },
      "outputs": [
        {
          "data": {
            "image/png": "[encoded data removed]",
            "text/plain": [
              "<Figure size 432x288 with 1 Axes>"
            ]
          },
          "metadata": {
            "needs_background": "light"
          },
          "output_type": "display_data"
        }
      ],
      "source": [
        "plt.plot(x_origin, y_origin, 'ro')\n",
        "plt.plot(x_temp, w_0 + w_1 * x_temp)\n",
        "plt.xlabel('Square Feet')\n",
        "plt.ylabel('House Price in 1000$')\n",
        "plt.title('Linear Regression')\n",
        "plt.show()"
      ]
    },
    {
      "cell_type": "markdown",
      "metadata": {
        "id": "FBkGPvV8CFep"
      },
      "source": [
        "# **Kết luận:**\n",
        "Cả 3 phương pháp cho ra kết quả tương tự nhau."
      ]
    }
  ],
  "metadata": {
    "colab": {
      "provenance": []
    },
    "kernelspec": {
      "display_name": "Python 3",
      "language": "python",
      "name": "python3"
    },
    "language_info": {
      "name": "python",
      "version": "3.11.1"
    },
    "vscode": {
      "interpreter": {
        "hash": "d7ebd9120b2d7d69bee30c56b8468e237959b0360df125a4d7b431f5f681c182"
      }
    }
  },
  "nbformat": 4,
  "nbformat_minor": 0
}
